{
 "cells": [
  {
   "cell_type": "code",
   "execution_count": 25,
   "source": [
    "import findspark\r\n",
    "findspark.init() \r\n",
    "\r\n",
    "from pyspark import SparkConf, SparkContext\r\n",
    "from pyspark.sql import SparkSession\r\n",
    "from pyspark.sql.types import StringType\r\n",
    "from pyspark.sql.functions import trim, count, isnan, when, col\r\n"
   ],
   "outputs": [],
   "metadata": {}
  },
  {
   "cell_type": "code",
   "execution_count": 2,
   "source": [
    "sc = SparkContext(conf=SparkConf().setAppName(\"MyApp\").setMaster(\"local\"))\r\n",
    "spark = SparkSession \\\r\n",
    "    .builder \\\r\n",
    "    .getOrCreate()"
   ],
   "outputs": [],
   "metadata": {}
  },
  {
   "cell_type": "code",
   "execution_count": 3,
   "source": [
    "train = spark.read.csv(\"../data/fraudTrain.csv\", header=True, inferSchema=True) \r\n",
    "test = spark.read.csv(\"../data/fraudTest.csv\", header=True) "
   ],
   "outputs": [],
   "metadata": {}
  },
  {
   "cell_type": "code",
   "execution_count": 4,
   "source": [
    "print(train.count(), test.count())\r\n",
    "print(train.columns)"
   ],
   "outputs": [
    {
     "output_type": "stream",
     "name": "stdout",
     "text": [
      "1296675 555719\n",
      "['_c0', 'trans_date_trans_time', 'cc_num', 'merchant', 'category', 'amt', 'first', 'last', 'gender', 'street', 'city', 'state', 'zip', 'lat', 'long', 'city_pop', 'job', 'dob', 'trans_num', 'unix_time', 'merch_lat', 'merch_long', 'is_fraud']\n"
     ]
    }
   ],
   "metadata": {}
  },
  {
   "cell_type": "code",
   "execution_count": 5,
   "source": [
    "train.show(4, vertical=True)"
   ],
   "outputs": [
    {
     "output_type": "stream",
     "name": "stdout",
     "text": [
      "-RECORD 0-------------------------------------\n",
      " _c0                   | 0                    \n",
      " trans_date_trans_time | 2019-01-01 00:00:18  \n",
      " cc_num                | 2703186189652095     \n",
      " merchant              | fraud_Rippin, Kub... \n",
      " category              | misc_net             \n",
      " amt                   | 4.97                 \n",
      " first                 | Jennifer             \n",
      " last                  | Banks                \n",
      " gender                | F                    \n",
      " street                | 561 Perry Cove       \n",
      " city                  | Moravian Falls       \n",
      " state                 | NC                   \n",
      " zip                   | 28654                \n",
      " lat                   | 36.0788              \n",
      " long                  | -81.1781             \n",
      " city_pop              | 3495                 \n",
      " job                   | Psychologist, cou... \n",
      " dob                   | 1988-03-09 00:00:00  \n",
      " trans_num             | 0b242abb623afc578... \n",
      " unix_time             | 1325376018           \n",
      " merch_lat             | 36.011293            \n",
      " merch_long            | -82.048315           \n",
      " is_fraud              | 0                    \n",
      "-RECORD 1-------------------------------------\n",
      " _c0                   | 1                    \n",
      " trans_date_trans_time | 2019-01-01 00:00:44  \n",
      " cc_num                | 630423337322         \n",
      " merchant              | fraud_Heller, Gut... \n",
      " category              | grocery_pos          \n",
      " amt                   | 107.23               \n",
      " first                 | Stephanie            \n",
      " last                  | Gill                 \n",
      " gender                | F                    \n",
      " street                | 43039 Riley Green... \n",
      " city                  | Orient               \n",
      " state                 | WA                   \n",
      " zip                   | 99160                \n",
      " lat                   | 48.8878              \n",
      " long                  | -118.2105            \n",
      " city_pop              | 149                  \n",
      " job                   | Special education... \n",
      " dob                   | 1978-06-21 00:00:00  \n",
      " trans_num             | 1f76529f857473494... \n",
      " unix_time             | 1325376044           \n",
      " merch_lat             | 49.159046999999994   \n",
      " merch_long            | -118.186462          \n",
      " is_fraud              | 0                    \n",
      "-RECORD 2-------------------------------------\n",
      " _c0                   | 2                    \n",
      " trans_date_trans_time | 2019-01-01 00:00:51  \n",
      " cc_num                | 38859492057661       \n",
      " merchant              | fraud_Lind-Buckridge \n",
      " category              | entertainment        \n",
      " amt                   | 220.11               \n",
      " first                 | Edward               \n",
      " last                  | Sanchez              \n",
      " gender                | M                    \n",
      " street                | 594 White Dale Su... \n",
      " city                  | Malad City           \n",
      " state                 | ID                   \n",
      " zip                   | 83252                \n",
      " lat                   | 42.1808              \n",
      " long                  | -112.262             \n",
      " city_pop              | 4154                 \n",
      " job                   | Nature conservati... \n",
      " dob                   | 1962-01-19 00:00:00  \n",
      " trans_num             | a1a22d70485983eac... \n",
      " unix_time             | 1325376051           \n",
      " merch_lat             | 43.150704            \n",
      " merch_long            | -112.154481          \n",
      " is_fraud              | 0                    \n",
      "-RECORD 3-------------------------------------\n",
      " _c0                   | 3                    \n",
      " trans_date_trans_time | 2019-01-01 00:01:16  \n",
      " cc_num                | 3534093764340240     \n",
      " merchant              | fraud_Kutch, Herm... \n",
      " category              | gas_transport        \n",
      " amt                   | 45.0                 \n",
      " first                 | Jeremy               \n",
      " last                  | White                \n",
      " gender                | M                    \n",
      " street                | 9443 Cynthia Cour... \n",
      " city                  | Boulder              \n",
      " state                 | MT                   \n",
      " zip                   | 59632                \n",
      " lat                   | 46.2306              \n",
      " long                  | -112.1138            \n",
      " city_pop              | 1939                 \n",
      " job                   | Patent attorney      \n",
      " dob                   | 1967-01-12 00:00:00  \n",
      " trans_num             | 6b849c168bdad6f86... \n",
      " unix_time             | 1325376076           \n",
      " merch_lat             | 47.034331            \n",
      " merch_long            | -112.561071          \n",
      " is_fraud              | 0                    \n",
      "only showing top 4 rows\n",
      "\n"
     ]
    }
   ],
   "metadata": {}
  },
  {
   "cell_type": "code",
   "execution_count": 11,
   "source": [
    "train.printSchema()"
   ],
   "outputs": [
    {
     "output_type": "stream",
     "name": "stdout",
     "text": [
      "root\n",
      " |-- _c0: integer (nullable = true)\n",
      " |-- trans_date_trans_time: timestamp (nullable = true)\n",
      " |-- cc_num: long (nullable = true)\n",
      " |-- merchant: string (nullable = true)\n",
      " |-- category: string (nullable = true)\n",
      " |-- amt: double (nullable = true)\n",
      " |-- first: string (nullable = true)\n",
      " |-- last: string (nullable = true)\n",
      " |-- gender: string (nullable = true)\n",
      " |-- street: string (nullable = true)\n",
      " |-- city: string (nullable = true)\n",
      " |-- state: string (nullable = true)\n",
      " |-- zip: string (nullable = true)\n",
      " |-- lat: double (nullable = true)\n",
      " |-- long: double (nullable = true)\n",
      " |-- city_pop: integer (nullable = true)\n",
      " |-- job: string (nullable = true)\n",
      " |-- dob: timestamp (nullable = true)\n",
      " |-- trans_num: string (nullable = true)\n",
      " |-- unix_time: integer (nullable = true)\n",
      " |-- merch_lat: double (nullable = true)\n",
      " |-- merch_long: double (nullable = true)\n",
      " |-- is_fraud: integer (nullable = true)\n",
      "\n"
     ]
    }
   ],
   "metadata": {}
  },
  {
   "cell_type": "code",
   "execution_count": 7,
   "source": [
    "train = train.withColumn(\"zip\", train[\"zip\"].cast(StringType()))"
   ],
   "outputs": [],
   "metadata": {}
  },
  {
   "cell_type": "code",
   "execution_count": 8,
   "source": [
    "train = train.dropDuplicates([\"_c0\"])\r\n",
    "train.count()"
   ],
   "outputs": [
    {
     "output_type": "execute_result",
     "data": {
      "text/plain": [
       "1296675"
      ]
     },
     "metadata": {},
     "execution_count": 8
    }
   ],
   "metadata": {}
  },
  {
   "cell_type": "code",
   "execution_count": 9,
   "source": [
    "# Remove whitespaces from String columns\r\n",
    "string_cols = [item[0] for item in train.dtypes if item[1]==\"string\"]\r\n",
    "for col in string_cols:\r\n",
    "    train = train.withColumn(col, trim(train[col]))"
   ],
   "outputs": [],
   "metadata": {}
  },
  {
   "cell_type": "code",
   "execution_count": 29,
   "source": [
    "# count of both Null and missing values\r\n",
    "# this function does not work when we have timestamps columns\r\n",
    "\r\n",
    "train.select([count(when(isnan(col(c))|col(c).isNull(), c)).alias(c) for c in train.columns if c not in [\"trans_date_trans_time\", \"dob\"]]).show()\r\n",
    "\r\n"
   ],
   "outputs": [
    {
     "output_type": "stream",
     "name": "stdout",
     "text": [
      "+---+------+--------+--------+---+-----+----+------+------+----+-----+---+---+----+--------+---+---------+---------+---------+----------+--------+\n",
      "|_c0|cc_num|merchant|category|amt|first|last|gender|street|city|state|zip|lat|long|city_pop|job|trans_num|unix_time|merch_lat|merch_long|is_fraud|\n",
      "+---+------+--------+--------+---+-----+----+------+------+----+-----+---+---+----+--------+---+---------+---------+---------+----------+--------+\n",
      "|  0|     0|       0|       0|  0|    0|   0|     0|     0|   0|    0|  0|  0|   0|       0|  0|        0|        0|        0|         0|       0|\n",
      "+---+------+--------+--------+---+-----+----+------+------+----+-----+---+---+----+--------+---+---------+---------+---------+----------+--------+\n",
      "\n"
     ]
    }
   ],
   "metadata": {}
  },
  {
   "cell_type": "code",
   "execution_count": 31,
   "source": [
    "# delete columns with null values more than a threshold\r\n",
    "agg_row = train.select(\r\n",
    "    [\r\n",
    "        (count(when(isnan(col(c))|col(c).isNull(), c))/train.count()).alias(c)\r\n",
    "        for c in train.columns if c not in [\"trans_date_trans_time\", \"dob\"]]\r\n",
    ").collect()\r\n"
   ],
   "outputs": [],
   "metadata": {}
  },
  {
   "cell_type": "code",
   "execution_count": 35,
   "source": [
    "agg_dict = [row.asDict() for row in agg_row][0]\r\n",
    "col_null = [i for i in agg_dict if agg_dict[i]>0.4]\r\n",
    "col_null\r\n",
    "train = train.drop(*col_null)"
   ],
   "outputs": [
    {
     "output_type": "execute_result",
     "data": {
      "text/plain": [
       "[]"
      ]
     },
     "metadata": {},
     "execution_count": 35
    }
   ],
   "metadata": {}
  },
  {
   "cell_type": "code",
   "execution_count": 55,
   "source": [
    "train.groupBy(\"State\").count().orderBy(\"count\", ascending=False).show()"
   ],
   "outputs": [
    {
     "output_type": "stream",
     "name": "stdout",
     "text": [
      "+-----+-----+\n",
      "|State|count|\n",
      "+-----+-----+\n",
      "|   TX|94876|\n",
      "|   NY|83501|\n",
      "|   PA|79847|\n",
      "|   CA|56360|\n",
      "|   OH|46480|\n",
      "|   MI|46154|\n",
      "|   IL|43252|\n",
      "|   FL|42671|\n",
      "|   AL|40989|\n",
      "|   MO|38403|\n",
      "|   MN|31714|\n",
      "|   AR|31127|\n",
      "|   NC|30266|\n",
      "|   WI|29368|\n",
      "|   VA|29250|\n",
      "|   SC|29190|\n",
      "|   KY|28475|\n",
      "|   IN|27580|\n",
      "|   IA|26985|\n",
      "|   OK|26671|\n",
      "+-----+-----+\n",
      "only showing top 20 rows\n",
      "\n"
     ]
    }
   ],
   "metadata": {}
  },
  {
   "cell_type": "code",
   "execution_count": 57,
   "source": [
    "train.groupBy(\"State\").sum(\"is_fraud\").orderBy(\"sum(is_fraud)\", ascending=False).show()"
   ],
   "outputs": [
    {
     "output_type": "stream",
     "name": "stdout",
     "text": [
      "+-----+-------------+\n",
      "|State|sum(is_fraud)|\n",
      "+-----+-------------+\n",
      "|   NY|          555|\n",
      "|   TX|          479|\n",
      "|   PA|          458|\n",
      "|   CA|          326|\n",
      "|   OH|          321|\n",
      "|   FL|          281|\n",
      "|   IL|          248|\n",
      "|   MI|          238|\n",
      "|   AL|          215|\n",
      "|   MN|          207|\n",
      "|   VA|          198|\n",
      "|   SC|          193|\n",
      "|   MO|          191|\n",
      "|   NE|          180|\n",
      "|   WI|          163|\n",
      "|   AR|          161|\n",
      "|   MD|          157|\n",
      "|   KS|          156|\n",
      "|   KY|          155|\n",
      "|   NC|          149|\n",
      "+-----+-------------+\n",
      "only showing top 20 rows\n",
      "\n"
     ]
    }
   ],
   "metadata": {}
  },
  {
   "cell_type": "code",
   "execution_count": 60,
   "source": [
    "train.groupBy(\"State\").pivot(\"is_fraud\").count().show()"
   ],
   "outputs": [],
   "metadata": {}
  },
  {
   "cell_type": "code",
   "execution_count": null,
   "source": [],
   "outputs": [],
   "metadata": {}
  }
 ],
 "metadata": {
  "orig_nbformat": 4,
  "language_info": {
   "name": "python",
   "version": "3.7.10",
   "mimetype": "text/x-python",
   "codemirror_mode": {
    "name": "ipython",
    "version": 3
   },
   "pygments_lexer": "ipython3",
   "nbconvert_exporter": "python",
   "file_extension": ".py"
  },
  "kernelspec": {
   "name": "python3",
   "display_name": "Python 3.7.10 64-bit ('ml_workflow': conda)"
  },
  "interpreter": {
   "hash": "2a338b638f80056328dd3f5160dac59358ec8d38879ff8c448815d4b8aefd9d1"
  }
 },
 "nbformat": 4,
 "nbformat_minor": 2
}