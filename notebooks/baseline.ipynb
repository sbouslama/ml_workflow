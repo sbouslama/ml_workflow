{
 "cells": [
  {
   "cell_type": "code",
   "execution_count": 1,
   "metadata": {},
   "outputs": [],
   "source": [
    "# train svm model"
   ]
  },
  {
   "cell_type": "code",
   "execution_count": 2,
   "metadata": {},
   "outputs": [],
   "source": [
    "import sys\r\n",
    "import pandas as pd\r\n",
    "sys.path.append(\"../src\")\r\n",
    "\r\n",
    "\r\n",
    "from create_folds import create_folds\r\n",
    "from train import run,process\r\n",
    "\r\n",
    "import config"
   ]
  },
  {
   "cell_type": "code",
   "execution_count": 3,
   "metadata": {},
   "outputs": [],
   "source": [
    "train_df = pd.read_csv(\"../data/fraudTrain.csv\")"
   ]
  },
  {
   "cell_type": "code",
   "execution_count": 4,
   "metadata": {},
   "outputs": [
    {
     "name": "stderr",
     "output_type": "stream",
     "text": [
      "../src\\utilities\\feature_engineering.py:6: FutureWarning: Series.dt.weekofyear and Series.dt.week have been deprecated.  Please use Series.dt.isocalendar().week instead.\n",
      "  df[\"week\"] = df[date_col].dt.week\n"
     ]
    },
    {
     "name": "stdout",
     "output_type": "stream",
     "text": [
      "__COL_TO_DROP__: ['Unnamed: 0', 'cc_num', 'first', 'last', 'street', 'zip', 'trans_date_trans_time', 'dob', 'trans_num', 'unix_time', 'job', 'merch_long', 'merch_lat']\n"
     ]
    }
   ],
   "source": [
    "train_df = create_folds(train_df, True)\r\n",
    "train_df = process(train_df)"
   ]
  },
  {
   "cell_type": "code",
   "execution_count": 5,
   "metadata": {},
   "outputs": [
    {
     "name": "stdout",
     "output_type": "stream",
     "text": [
      "********** Train for fold number:  0 **********\n",
      "Shape of the training data: 648337, Shape of testing data: 648338\n",
      "Error/metric: f1_score Fold=0, train_error=1.0, valid_error=0.804\n",
      "Error/metric: auc Fold=0, train_error=1.0, valid_error=0.84\n",
      "********** Train for fold number:  1 **********\n",
      "Shape of the training data: 648338, Shape of testing data: 648337\n",
      "Error/metric: f1_score Fold=1, train_error=1.0, valid_error=0.812\n",
      "Error/metric: auc Fold=1, train_error=1.0, valid_error=0.848\n"
     ]
    }
   ],
   "source": [
    "\r\n",
    "# train the model using the goldout strategy for validation\r\n",
    "model = \"random_forest_classifier\"\r\n",
    "error=[\"f1_score\",\"auc\"]\r\n",
    "clfs = [run(train_df, fold, model, error) for fold in train_df.kfold.unique()]"
   ]
  },
  {
   "cell_type": "code",
   "execution_count": null,
   "metadata": {},
   "outputs": [],
   "source": []
  }
 ],
 "metadata": {
  "interpreter": {
   "hash": "2a338b638f80056328dd3f5160dac59358ec8d38879ff8c448815d4b8aefd9d1"
  },
  "kernelspec": {
   "display_name": "Python 3.7.10 64-bit ('ml_workflow': conda)",
   "name": "python3"
  },
  "language_info": {
   "codemirror_mode": {
    "name": "ipython",
    "version": 3
   },
   "file_extension": ".py",
   "mimetype": "text/x-python",
   "name": "python",
   "nbconvert_exporter": "python",
   "pygments_lexer": "ipython3",
   "version": "3.7.10"
  },
  "orig_nbformat": 4
 },
 "nbformat": 4,
 "nbformat_minor": 2
}