{
 "cells": [
  {
   "cell_type": "code",
   "execution_count": 1,
   "metadata": {},
   "outputs": [],
   "source": [
    "# train svm model"
   ]
  },
  {
   "cell_type": "code",
   "execution_count": 2,
   "metadata": {},
   "outputs": [],
   "source": [
    "import sys\r\n",
    "import pandas as pd\r\n",
    "sys.path.append(\"../src\")\r\n",
    "\r\n",
    "\r\n",
    "from create_folds import create_folds\r\n",
    "from train import run\r\n",
    "from model_dispatcher import models\r\n",
    "from utilities.categorical_encoders import Encoder\r\n",
    "from utilities.feature_engineering import *\r\n",
    "from sklearn.preprocessing import StandardScaler\r\n",
    "from imblearn.over_sampling import SMOTE\r\n",
    "import config"
   ]
  },
  {
   "cell_type": "code",
   "execution_count": 3,
   "metadata": {},
   "outputs": [],
   "source": [
    "train_df = pd.read_csv(\"../data/fraudTrain.csv\")"
   ]
  },
  {
   "cell_type": "code",
   "execution_count": 4,
   "metadata": {},
   "outputs": [],
   "source": [
    "train_df = create_folds(train_df, True)"
   ]
  },
  {
   "cell_type": "code",
   "execution_count": 5,
   "metadata": {},
   "outputs": [],
   "source": [
    "categorical_features = ['merchant','category', 'gender', 'city', 'state']\r\n",
    "encoder = Encoder(encoder=\"label_encoder\", columns_names=categorical_features)\r\n",
    "train_df = encoder.fit_transform(train_df)\r\n"
   ]
  },
  {
   "cell_type": "code",
   "execution_count": 6,
   "metadata": {},
   "outputs": [
    {
     "name": "stderr",
     "output_type": "stream",
     "text": [
      "../src\\utilities\\feature_engineering.py:6: FutureWarning: Series.dt.weekofyear and Series.dt.week have been deprecated.  Please use Series.dt.isocalendar().week instead.\n",
      "  df[\"week\"] = df[date_col].dt.week\n"
     ]
    }
   ],
   "source": [
    "train_df[\"trans_date_trans_time\"] = pd.to_datetime(train_df[\"trans_date_trans_time\"], format=\"%Y-%m-%d %H:%M:%S\")\r\n",
    "train_df[\"dob\"] = pd.to_datetime(train_df[\"dob\"], format=\"%Y-%m-%d\")\r\n",
    "train_df[\"age\"]  = train_df[\"trans_date_trans_time\"]-train_df[\"dob\"]\r\n",
    "train_df[\"age\"] = round(train_df[\"age\"].dt.days/365)\r\n",
    "train_df = extract_date_features(train_df, \"trans_date_trans_time\")"
   ]
  },
  {
   "cell_type": "code",
   "execution_count": 7,
   "metadata": {},
   "outputs": [
    {
     "name": "stdout",
     "output_type": "stream",
     "text": [
      "__COL_TO_DROP__: ['Unnamed: 0', 'cc_num', 'first', 'last', 'street', 'zip', 'trans_date_trans_time', 'dob', 'trans_num', 'unix_time', 'job', 'merch_long', 'merch_lat']\n"
     ]
    }
   ],
   "source": [
    "col_to_drop = config.COL_TO_DROP\r\n",
    "print(f\"__COL_TO_DROP__: {col_to_drop}\")\r\n",
    "train_df = train_df.drop(col_to_drop, axis=1)"
   ]
  },
  {
   "cell_type": "code",
   "execution_count": 8,
   "metadata": {},
   "outputs": [],
   "source": [
    "sm = SMOTE()\r\n",
    "train_df[[col for col in train_df.columns if col not in [config.TARGET]]], train_df[\"is_fraud\"] = sm.fit_resample(train_df.drop(\"is_fraud\", axis=1), train_df[\"is_fraud\"])\r\n"
   ]
  },
  {
   "cell_type": "code",
   "execution_count": 9,
   "metadata": {},
   "outputs": [],
   "source": [
    "# train_df[\"age\"] = train_df[\"trans_date_trans_time\"] - train_df[\"dob\"]\r\n",
    "# data_characterization(train_df)"
   ]
  },
  {
   "cell_type": "code",
   "execution_count": 10,
   "metadata": {},
   "outputs": [
    {
     "name": "stdout",
     "output_type": "stream",
     "text": [
      "********** Train for fold number:  0 **********\n",
      "Shape of the training data: 648337, Shape of testing data: 648338\n",
      "Fold=0, train_error=1.0, valid_error=0.803\n",
      "********** Train for fold number:  1 **********\n",
      "Shape of the training data: 648338, Shape of testing data: 648337\n",
      "Fold=1, train_error=1.0, valid_error=0.807\n"
     ]
    }
   ],
   "source": [
    "\r\n",
    "model = \"random_forest_classifier\"\r\n",
    "error=\"f1_score\"\r\n",
    "clfs = [run(train_df, fold, model, error) for fold in train_df.kfold.unique()]"
   ]
  }
 ],
 "metadata": {
  "interpreter": {
   "hash": "2a338b638f80056328dd3f5160dac59358ec8d38879ff8c448815d4b8aefd9d1"
  },
  "kernelspec": {
   "display_name": "Python 3.7.10 64-bit ('ml_workflow': conda)",
   "name": "python3"
  },
  "language_info": {
   "codemirror_mode": {
    "name": "ipython",
    "version": 3
   },
   "file_extension": ".py",
   "mimetype": "text/x-python",
   "name": "python",
   "nbconvert_exporter": "python",
   "pygments_lexer": "ipython3",
   "version": "3.7.10"
  },
  "orig_nbformat": 4
 },
 "nbformat": 4,
 "nbformat_minor": 2
}